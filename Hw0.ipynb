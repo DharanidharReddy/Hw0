{
 "cells": [
  {
   "cell_type": "code",
   "execution_count": 1,
   "metadata": {},
   "outputs": [
    {
     "data": {
      "text/plain": [
       "10"
      ]
     },
     "execution_count": 1,
     "metadata": {},
     "output_type": "execute_result"
    }
   ],
   "source": [
    "5+5"
   ]
  },
  {
   "cell_type": "code",
   "execution_count": 2,
   "metadata": {
    "collapsed": true
   },
   "outputs": [],
   "source": [
    "import numpy as np\n"
   ]
  },
  {
   "cell_type": "code",
   "execution_count": 3,
   "metadata": {},
   "outputs": [
    {
     "data": {
      "text/plain": [
       "array([0, 1, 2, 3, 4, 5, 6, 7, 8, 9])"
      ]
     },
     "execution_count": 3,
     "metadata": {},
     "output_type": "execute_result"
    }
   ],
   "source": [
    "np.arange(10)"
   ]
  },
  {
   "cell_type": "code",
   "execution_count": 4,
   "metadata": {
    "collapsed": true
   },
   "outputs": [],
   "source": [
    "import requests\n",
    "import re\n",
    "\n",
    "US_STOPWORDS = [\"a\", \"about\", \"above\", \"above\", \"across\", \"after\", \"afterwards\", \"again\", \"against\", \"all\", \"almost\", \"alone\", \"along\", \"already\", \"also\",\"although\",\"always\",\"am\",\"among\", \"amongst\", \"amoungst\", \"amount\",  \"an\", \"and\", \"another\", \"any\",\"anyhow\",\"anyone\",\"anything\",\"anyway\", \"anywhere\", \"are\", \"around\", \"as\",  \"at\", \"back\",\"be\",\"became\", \"because\",\"become\",\"becomes\", \"becoming\", \"been\", \"before\", \"beforehand\", \"behind\", \"being\", \"below\", \"beside\", \"besides\", \"between\", \"beyond\", \"bill\", \"both\", \"bottom\",\"but\", \"by\", \"call\", \"can\", \"cannot\", \"cant\", \"co\", \"con\", \"could\", \"couldnt\", \"cry\", \"de\", \"describe\", \"detail\", \"do\", \"done\", \"down\", \"due\", \"during\", \"each\", \"eg\", \"eight\", \"either\", \"eleven\",\"else\", \"elsewhere\", \"empty\", \"enough\", \"etc\", \"even\", \"ever\", \"every\", \"everyone\", \"everything\", \"everywhere\", \"except\", \"few\", \"fifteen\", \"fify\", \"fill\", \"find\", \"fire\", \"first\", \"five\", \"for\", \"former\", \"formerly\", \"forty\", \"found\", \"four\", \"from\", \"front\", \"full\", \"further\", \"get\", \"give\", \"go\", \"had\", \"has\", \"hasnt\", \"have\", \"he\", \"hence\", \"her\", \"here\", \"hereafter\", \"hereby\", \"herein\", \"hereupon\", \"hers\", \"herself\", \"him\", \"himself\", \"his\", \"how\", \"however\", \"hundred\", \"ie\", \"if\", \"in\", \"inc\", \"indeed\", \"interest\", \"into\", \"is\", \"it\", \"its\", \"itself\", \"keep\", \"last\", \"latter\", \"latterly\", \"least\", \"less\", \"ltd\", \"made\", \"many\", \"may\", \"me\", \"meanwhile\", \"might\", \"mill\", \"mine\", \"more\", \"moreover\", \"most\", \"mostly\", \"move\", \"much\", \"must\", \"my\", \"myself\", \"name\", \"namely\", \"neither\", \"never\", \"nevertheless\", \"next\", \"nine\", \"no\", \"nobody\", \"none\", \"noone\", \"nor\", \"not\", \"nothing\", \"now\", \"nowhere\", \"of\", \"off\", \"often\", \"on\", \"once\", \"one\", \"only\", \"onto\", \"or\", \"other\", \"others\", \"otherwise\", \"our\", \"ours\", \"ourselves\", \"out\", \"over\", \"own\",\"part\", \"per\", \"perhaps\", \"please\", \"put\", \"rather\", \"re\", \"same\", \"see\", \"seem\", \"seemed\", \"seeming\", \"seems\", \"serious\", \"several\", \"she\", \"should\", \"show\", \"side\", \"since\", \"sincere\", \"six\", \"sixty\", \"so\", \"some\", \"somehow\", \"someone\", \"something\", \"sometime\", \"sometimes\", \"somewhere\", \"still\", \"such\", \"system\", \"take\", \"ten\", \"than\", \"that\", \"the\", \"their\", \"them\", \"themselves\", \"then\", \"thence\", \"there\", \"thereafter\", \"thereby\", \"therefore\", \"therein\", \"thereupon\", \"these\", \"they\", \"thickv\", \"thin\", \"third\", \"this\", \"those\", \"though\", \"three\", \"through\", \"throughout\", \"thru\", \"thus\", \"to\", \"together\", \"too\", \"top\", \"toward\", \"towards\", \"twelve\", \"twenty\", \"two\", \"un\", \"under\", \"until\", \"up\", \"upon\", \"us\", \"very\", \"via\", \"was\", \"we\", \"well\", \"were\", \"what\", \"whatever\", \"when\", \"whence\", \"whenever\", \"where\", \"whereafter\", \"whereas\", \"whereby\", \"wherein\", \"whereupon\", \"wherever\", \"whether\", \"which\", \"while\", \"whither\", \"who\", \"whoever\", \"whole\", \"whom\", \"whose\", \"why\", \"will\", \"with\", \"within\", \"without\", \"would\", \"yet\", \"you\", \"your\", \"yours\", \"yourself\", \"yourselves\", \"the\"]\n",
    "\n",
    "def gutenberg_get_words(url=\"http://www.gutenberg.org/cache/epub/1232/pg1232.txt\",\n",
    "                        range=slice(0,None), stopwords=[]):\n",
    "    \n",
    "    r = requests.get(url)\n",
    "    data = re.sub(r\"[^\\w\\s]\", \"\", str(r.text)).lower()\n",
    "   \n",
    "    return \\\n",
    "        [w for w in data.split() if w not in stopwords]"
   ]
  },
  {
   "cell_type": "code",
   "execution_count": 16,
   "metadata": {},
   "outputs": [
    {
     "name": "stdout",
     "output_type": "stream",
     "text": [
      "['london', 'i', 'walk', 'streets', 'petersburgh', 'i', 'feel', 'cold', 'northern', 'breeze', 'play', 'cheeks', 'braces', 'nerves', 'fills', 'delight', 'understand', 'feeling', 'breeze', 'travelled', 'regions', 'i', 'advancing', 'gives', 'foretaste', 'icy', 'climes', 'inspirited', 'wind', 'promise']\n"
     ]
    }
   ],
   "source": [
    "words = gutenberg_get_words(\n",
    "    \"http://www.gutenberg.org/cache/epub/84/pg84.txt\",\n",
    "    stopwords=US_STOPWORDS)\n",
    "\n",
    "print(words[100:130])"
   ]
  },
  {
   "cell_type": "code",
   "execution_count": 6,
   "metadata": {},
   "outputs": [
    {
     "name": "stdout",
     "output_type": "stream",
     "text": [
      "['brahman', 'sun', 'tanned', 'light', 'shoulders', 'banks', 'river', 'bathing', 'performing', 'sacred', 'ablutions', 'sacred', 'offerings', 'mango', 'grove', 'shade', 'poured', 'black', 'eyes', 'playing', 'boy', 'mother', 'sang', 'sacred', 'offerings', 'father', 'scholar', 'taught', 'wise', 'men']\n"
     ]
    }
   ],
   "source": [
    "words = gutenberg_get_words(\n",
    "    \"http://www.gutenberg.org/cache/epub/2500/pg2500.txt\",\n",
    "    stopwords=US_STOPWORDS)\n",
    "\n",
    "print(words[100:130])"
   ]
  },
  {
   "cell_type": "code",
   "execution_count": 7,
   "metadata": {},
   "outputs": [
    {
     "name": "stdout",
     "output_type": "stream",
     "text": [
      "['style', 'shows', 'equal', 'knowledge', 'world', 'contains', 'thoughts', 'new', 'old', 'age', 'plato', 'deeper', 'irony', 'greater', 'wealth', 'humour', 'imagery', 'dramatic', 'power', 'writings', 'attempt', 'interweave', 'life', 'speculation', 'connect', 'politics', 'philosophy', 'republic', 'centre', 'dialogues']\n"
     ]
    }
   ],
   "source": [
    "words = gutenberg_get_words(\n",
    "    \"http://www.gutenberg.org/cache/epub/1497/pg1497.txt\",\n",
    "    stopwords=US_STOPWORDS)\n",
    "\n",
    "print(words[100:130])"
   ]
  },
  {
   "cell_type": "code",
   "execution_count": 8,
   "metadata": {},
   "outputs": [
    {
     "name": "stdout",
     "output_type": "stream",
     "text": [
      "['comprehending', 'consequences', 'existence', 'union', 'safety', 'welfare', 'parts', 'composed', 'fate', 'empire', 'respects', 'interesting', 'world', 'frequently', 'remarked', 'reserved', 'people', 'country', 'conduct', 'example', 'decide', 'important', 'question', 'societies', 'men', 'really', 'capable', 'establishing', 'good', 'government']\n"
     ]
    }
   ],
   "source": [
    "words = gutenberg_get_words(\n",
    "    \"http://www.gutenberg.org/cache/epub/1404/pg1404.txt\",\n",
    "    stopwords=US_STOPWORDS)\n",
    "\n",
    "print(words[100:130])"
   ]
  },
  {
   "cell_type": "code",
   "execution_count": 18,
   "metadata": {},
   "outputs": [
    {
     "name": "stdout",
     "output_type": "stream",
     "text": [
      "['comprehending', 'consequences', 'existence', 'union', 'safety', 'welfare', 'parts', 'composed', 'fate', 'empire', 'respects', 'interesting', 'world', 'frequently', 'remarked', 'reserved', 'people', 'country', 'conduct', 'example', 'decide', 'important', 'question', 'societies', 'men', 'really', 'capable', 'establishing', 'good', 'government']\n"
     ]
    },
    {
     "data": {
      "text/plain": [
       "[('1', 3), ('r', 2), ('0', 2)]"
      ]
     },
     "execution_count": 18,
     "metadata": {},
     "output_type": "execute_result"
    }
   ],
   "source": [
    "\n",
    "words = gutenberg_get_words(\n",
    "    \"http://www.gutenberg.org/cache/epub/1404/pg1404.txt\",\n",
    "    stopwords=US_STOPWORDS)\n",
    "\n",
    "print(words[100:130])\n",
    "from collections import Counter\n",
    "my_counter=Counter()\n",
    "Counter('print(words[100:115])').most_common(3)"
   ]
  },
  {
   "cell_type": "code",
   "execution_count": 23,
   "metadata": {},
   "outputs": [
    {
     "ename": "FileNotFoundError",
     "evalue": "[Errno 2] No such file or directory: 'words'",
     "output_type": "error",
     "traceback": [
      "\u001b[1;31m---------------------------------------------------------------------------\u001b[0m",
      "\u001b[1;31mFileNotFoundError\u001b[0m                         Traceback (most recent call last)",
      "\u001b[1;32m<ipython-input-23-43fd7cb5c126>\u001b[0m in \u001b[0;36m<module>\u001b[1;34m()\u001b[0m\n\u001b[1;32m----> 1\u001b[1;33m \u001b[0minFileVar\u001b[0m\u001b[1;33m=\u001b[0m\u001b[0mopen\u001b[0m\u001b[1;33m(\u001b[0m\u001b[1;34m\"words\"\u001b[0m\u001b[1;33m)\u001b[0m\u001b[1;33m\u001b[0m\u001b[0m\n\u001b[0m\u001b[0;32m      2\u001b[0m \u001b[0moutFileVar\u001b[0m\u001b[1;33m=\u001b[0m\u001b[0mclose\u001b[0m\u001b[1;33m(\u001b[0m\u001b[1;34m\"http://www.gutenberg.org/cache/epub/84/pg84.txt\"\u001b[0m\u001b[1;33m)\u001b[0m\u001b[1;33m\u001b[0m\u001b[0m\n\u001b[0;32m      3\u001b[0m \u001b[0mbuffer\u001b[0m\u001b[1;33m=\u001b[0m\u001b[1;33m[\u001b[0m\u001b[1;33m]\u001b[0m\u001b[1;33m\u001b[0m\u001b[0m\n\u001b[0;32m      4\u001b[0m \u001b[0mkeepCurrentSet\u001b[0m \u001b[1;33m=\u001b[0m \u001b[1;32mTrue\u001b[0m\u001b[1;33m\u001b[0m\u001b[0m\n\u001b[0;32m      5\u001b[0m \u001b[1;32mfor\u001b[0m \u001b[0mline\u001b[0m \u001b[1;32min\u001b[0m \u001b[0minFileVar\u001b[0m\u001b[1;33m:\u001b[0m\u001b[1;33m\u001b[0m\u001b[0m\n",
      "\u001b[1;31mFileNotFoundError\u001b[0m: [Errno 2] No such file or directory: 'words'"
     ]
    }
   ],
   "source": [
    "inFileVar=open(\"words\")\n",
    "outFileVar=close(\"http://www.gutenberg.org/cache/epub/84/pg84.txt\")\n",
    "buffer=[]\n",
    "keepCurrentSet = True\n",
    "for line in inFileVar:\n",
    "    buffer.append(line)\n",
    "if line.startwith(\"----\"):\n",
    "    if keepCurrentSet:\n",
    "        outFileVar.write(\"\".join(buffer))\n",
    "    keepCurrentSet=False\n",
    "    buffer=[]\n",
    "elif line.startwith(\"extractme\"):\n",
    "    keepCurrentSet=True\n",
    "counter = dict()\n",
    "variablename1 = ['Book1', 'Book2', 'Book3', 'Book4', 'Book5']\n",
    "for k in variablename1:\n",
    "    if not k in counter:\n",
    "        counter[k]=1\n",
    "    else:\n",
    "        counter += 1\n",
    "inFileVar.close()\n",
    "outFileVar.close()\n",
    "raws_data = {'london', 'i', 'walk', 'streets', 'petersburgh', 'i', 'feel', 'cold', 'northern', 'breeze', 'play', 'cheeks', 'braces', 'nerves', 'fills'}\n",
    "df = pd.DataFrame(raws_data, column =[1])\n",
    "df\n",
    "df = pd.read_csv('pandas_dataframe_importing_csv/http://www.gutenberg.org/cache/epub/1232/pg1232.csv', columns=[1, 2])\n",
    "df\n",
    "df.to_csv(filename, sep='\\t', encoding='utf-8')\n",
    "Element\n",
    "def functionName(r):\n",
    "    return sum(r.isnull())"
   ]
  },
  {
   "cell_type": "code",
   "execution_count": null,
   "metadata": {
    "collapsed": true
   },
   "outputs": [],
   "source": [
    "from collections import Counter"
   ]
  },
  {
   "cell_type": "code",
   "execution_count": null,
   "metadata": {
    "collapsed": true
   },
   "outputs": [],
   "source": [
    "words = gutenberg_get_words(\n",
    "    \"http://www.gutenberg.org/cache/epub/1404/pg1404.txt\",\n",
    "    stopwords=US_STOPWORDS)\n",
    "\n",
    "print(words[100:130])\n",
    "from collections import Counter\n",
    "import re\n",
    "words = re.findall(r'\\w+', open(\"http://www.gutenberg.org/cache/epub/84/pg84.txt\").read().lower())\n",
    "Counter(words).most_common(10)"
   ]
  },
  {
   "cell_type": "code",
   "execution_count": null,
   "metadata": {},
   "outputs": [],
   "source": [
    "words = gutenberg_get_words(\n",
    "    \"http://www.gutenberg.org/cache/epub/84/pg84.txt\",\n",
    "    stopwords=US_STOPWORDS)\n",
    "\n",
    "print(words[100:115])\n",
    "Counter(dict(words[100:130]))"
   ]
  },
  {
   "cell_type": "code",
   "execution_count": null,
   "metadata": {},
   "outputs": [],
   "source": [
    "fin = open('http://www.gutenberg.org/cache/epub/1404/pg1404.txt')\n",
    "englishdict = dict()\n",
    "def create_diction():\n",
    "    counter = 0\n",
    "    dictionairy = dict()\n",
    "    for line in fin:\n",
    "        word = line.strip()\n",
    "        dictionairy[word] = counter\n",
    "        counter += 1\n",
    "    return dictionairy\n",
    "                 \n",
    "                 "
   ]
  },
  {
   "cell_type": "code",
   "execution_count": null,
   "metadata": {},
   "outputs": [],
   "source": [
    "words = gutenberg_get_words(\n",
    "    \"http://www.gutenberg.org/cache/epub/84/pg84.txt\",\n",
    "    stopwords=US_STOPWORDS)\n",
    "\n",
    "print(words[100:115])\n",
    "m = ['comprehending', 'consequences', 'existence', 'union', 'safety', 'welfare', 'parts', 'composed', 'fate', 'empire', 'respects', 'interesting', 'world', 'frequently', 'remarked', 'reserved', 'people', 'country', 'conduct', 'example', 'decide', 'important', 'question', 'societies', 'men', 'really', 'capable', 'establishing', 'good', 'government']\n",
    "print(m[10])"
   ]
  },
  {
   "cell_type": "code",
   "execution_count": 11,
   "metadata": {},
   "outputs": [
    {
     "ename": "OSError",
     "evalue": "[Errno 22] Invalid argument: 'http://www.gutenberg.org/cache/epub/1232/pg1232.txt'",
     "output_type": "error",
     "traceback": [
      "\u001b[1;31m---------------------------------------------------------------------------\u001b[0m",
      "\u001b[1;31mOSError\u001b[0m                                   Traceback (most recent call last)",
      "\u001b[1;32m<ipython-input-11-e2707601c619>\u001b[0m in \u001b[0;36m<module>\u001b[1;34m()\u001b[0m\n\u001b[1;32m----> 1\u001b[1;33m \u001b[0minFileVar\u001b[0m\u001b[1;33m=\u001b[0m\u001b[0mopen\u001b[0m\u001b[1;33m(\u001b[0m\u001b[1;34m\"http://www.gutenberg.org/cache/epub/1232/pg1232.txt\"\u001b[0m\u001b[1;33m)\u001b[0m\u001b[1;33m\u001b[0m\u001b[0m\n\u001b[0m\u001b[0;32m      2\u001b[0m \u001b[0moutFileVar\u001b[0m\u001b[1;33m=\u001b[0m\u001b[0mclose\u001b[0m\u001b[1;33m(\u001b[0m\u001b[1;34m\"http://www.gutenberg.org/cache/epub/84/pg84.txt\"\u001b[0m\u001b[1;33m)\u001b[0m\u001b[1;33m\u001b[0m\u001b[0m\n\u001b[0;32m      3\u001b[0m \u001b[0mbuffer\u001b[0m\u001b[1;33m=\u001b[0m\u001b[1;33m[\u001b[0m\u001b[1;33m]\u001b[0m\u001b[1;33m\u001b[0m\u001b[0m\n\u001b[0;32m      4\u001b[0m \u001b[0mkeepCurrentSet\u001b[0m \u001b[1;33m=\u001b[0m \u001b[1;32mTrue\u001b[0m\u001b[1;33m\u001b[0m\u001b[0m\n\u001b[0;32m      5\u001b[0m \u001b[1;32mfor\u001b[0m \u001b[0mline\u001b[0m \u001b[1;32min\u001b[0m \u001b[0minFileVar\u001b[0m\u001b[1;33m:\u001b[0m\u001b[1;33m\u001b[0m\u001b[0m\n",
      "\u001b[1;31mOSError\u001b[0m: [Errno 22] Invalid argument: 'http://www.gutenberg.org/cache/epub/1232/pg1232.txt'"
     ]
    }
   ],
   "source": [
    "inFileVar=open(\"http://www.gutenberg.org/cache/epub/1232/pg1232.txt\")\n",
    "outFileVar=close(\"http://www.gutenberg.org/cache/epub/84/pg84.txt\")\n",
    "buffer=[]\n",
    "keepCurrentSet = True\n",
    "for line in inFileVar:\n",
    "    buffer.append(line)\n",
    "if line.startwith(\"----\"):\n",
    "    if keepCurrentSet:\n",
    "        outFileVar.write(\"\".join(buffer))\n",
    "    keepCurrentSet=False\n",
    "    buffer=[]\n",
    "elif line.startwith(\"extractme\"):\n",
    "    keepCurrentSet=True\n",
    "counter = dict()\n",
    "variablename1 = ['Book1', 'Book2', 'Book3', 'Book4', 'Book5']\n",
    "for k in variablename1:\n",
    "    if not k in counter:\n",
    "        counter[k]=1\n",
    "    else:\n",
    "        counter += 1\n",
    "inFileVar.close()\n",
    "outFileVar.close()\n",
    "raws_data = {'london', 'i', 'walk', 'streets', 'petersburgh', 'i', 'feel', 'cold', 'northern', 'breeze', 'play', 'cheeks', 'braces', 'nerves', 'fills'}\n",
    "df = pd.DataFrame(raws_data, column =[1])\n",
    "df\n",
    "df = pd.read_csv('pandas_dataframe_importing_csv/http://www.gutenberg.org/cache/epub/1232/pg1232.csv', columns=[1, 2])\n",
    "df\n",
    "df.to_csv(filename, sep='\\t', encoding='utf-8')\n",
    "Element\n",
    "def functionName(r):\n",
    "    return sum(r.isnull())"
   ]
  },
  {
   "cell_type": "code",
   "execution_count": null,
   "metadata": {
    "collapsed": true
   },
   "outputs": [],
   "source": []
  }
 ],
 "metadata": {
  "kernelspec": {
   "display_name": "Python 3",
   "language": "python",
   "name": "python3"
  },
  "language_info": {
   "codemirror_mode": {
    "name": "ipython",
    "version": 3
   },
   "file_extension": ".py",
   "mimetype": "text/x-python",
   "name": "python",
   "nbconvert_exporter": "python",
   "pygments_lexer": "ipython3",
   "version": "3.6.1"
  }
 },
 "nbformat": 4,
 "nbformat_minor": 2
}
